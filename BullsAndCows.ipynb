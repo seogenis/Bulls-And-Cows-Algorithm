{
 "cells": [
  {
   "cell_type": "code",
   "execution_count": 1,
   "metadata": {},
   "outputs": [],
   "source": [
    "#Asks for and checks user input\n",
    "def intake():\n",
    "    while True:\n",
    "        try:\n",
    "            user_input = input(\"User enter number: \")\n",
    "            input_list = [int(i) for i in user_input]\n",
    "            if len(set(input_list)) < len(input_list) or len(input_list) != 4:\n",
    "                print(\"Invalid Entry. Please enter a FOUR digit number with NO repeats.\")\n",
    "            else: \n",
    "                return input_list \n",
    "        except:\n",
    "            print(\"That's not a number... Please enter a FOUR digit number with NO repeats.\")"
   ]
  },
  {
   "cell_type": "code",
   "execution_count": 2,
   "metadata": {},
   "outputs": [],
   "source": [
    "#Finds how many cows and bulls there are \n",
    "def cowsbulls(guess_list, answer_list):\n",
    "    cows = 0\n",
    "    bulls = 0\n",
    "    \n",
    "    #loops through both lists to match items\n",
    "    for ansr in answer_list: \n",
    "        for gss in guess_list:\n",
    "            if gss == ansr:\n",
    "                if guess_list.index(gss) == answer_list.index(ansr):\n",
    "                    bulls += 1\n",
    "                else:\n",
    "                    cows += 1\n",
    "    \n",
    "    return cows, bulls"
   ]
  },
  {
   "cell_type": "code",
   "execution_count": 3,
   "metadata": {},
   "outputs": [],
   "source": [
    "#Loops through 1234,2345,3456...8901,9012 and gathers bull/cow sums data.\n",
    "def ansr_nums():\n",
    "    bc_sums = bc_sum\n",
    "\n",
    "    a,b,c,d = john_attempts%10,(1+john_attempts)%10,(2+john_attempts)%10,(3+john_attempts)%10\n",
    "\n",
    "    guess = [a,b,c,d]\n",
    "\n",
    "    john_cow, john_bull = cowsbulls(guess,answer)\n",
    "    bc_sums[a] = john_cow + john_bull\n",
    "    \n",
    "    return guess, john_cow, john_bull, bc_sums"
   ]
  },
  {
   "cell_type": "code",
   "execution_count": 4,
   "metadata": {},
   "outputs": [],
   "source": [
    "#Derive the 4 answer numbers from the sums of bulls and cows in the last 10 attempts.\n",
    "def ansr_confirm():\n",
    "    answer_numbs = answer_nums\n",
    "    \n",
    "    for i in range(10): #If there is a difference in the bull/cow sums, that number that just joined is an answer number\n",
    "        if bc_sum[(i+1)%10] - bc_sum[i] == 1:\n",
    "            answer_numbs.append((i+4)%10) #append the last number of trial i+1 to the answers\n",
    "\n",
    "    for i in range(2): #Run this twice to avoid escaping loopholes\n",
    "        for b in range(10): #Account for cases when bc sums are the same but one Answer Num enters and the other leaves.\n",
    "            for a in answer_numbs:\n",
    "                if b == a and bc_sum[(b+1)%10] == bc_sum[b]:\n",
    "                    answer_numbs.append((b+4)%10)\n",
    "\n",
    "    answer_numbs = sorted(set(answer_numbs))\n",
    "\n",
    "    john_cow, john_bull = cowsbulls(answer_numbs, answer)\n",
    "    return answer_numbs, john_cow, john_bull, answer_numbs"
   ]
  },
  {
   "cell_type": "code",
   "execution_count": 5,
   "metadata": {},
   "outputs": [],
   "source": [
    "#After an experimental program of mine ran random permutations of 4 numbers for 1,000,000 times, it was found that \n",
    "#the chances of getting 0 bulls: 37.5%, 1 bulls: 33.5%, 2 bulls: 25%, 4 bulls: 4%\n",
    "#This function randomly permutes the answer numbers until it gets 2 bulls\n",
    "def random_guesses():\n",
    "    random_permutation = sample(answer_nums,4)\n",
    "    john_cow, john_bull = cowsbulls(random_permutation, answer)\n",
    "    \n",
    "    if john_bull == 2:\n",
    "        return random_permutation, john_cow, john_bull, False, random_permutation\n",
    "    else:\n",
    "        return random_permutation, john_cow, john_bull, True, random_permutation"
   ]
  },
  {
   "cell_type": "code",
   "execution_count": 6,
   "metadata": {},
   "outputs": [],
   "source": [
    "#There are already 2 bulls in the answer_nums. \n",
    "#Runs through all six ways of exchanging two numbers, finds the last two numbers' places\n",
    "def permutations():\n",
    "    j,o,h,n = answer_nums\n",
    "    permutes = john_permutes\n",
    "\n",
    "    if permutes == 1:\n",
    "        perm_list = [o,j,h,n]\n",
    "        john_cow, john_bull = cowsbulls(perm_list, answer)\n",
    "        permutes += 1\n",
    "        \n",
    "        return perm_list, john_cow, john_bull, permutes\n",
    "    \n",
    "    elif permutes == 2:\n",
    "        perm_list = [h,o,j,n]\n",
    "        john_cow, john_bull = cowsbulls(perm_list, answer)\n",
    "        permutes += 1\n",
    "        \n",
    "        return perm_list, john_cow, john_bull, permutes\n",
    "    \n",
    "    elif permutes == 3:\n",
    "        perm_list = [n,o,h,j]\n",
    "        john_cow, john_bull = cowsbulls(perm_list, answer)\n",
    "        permutes += 1\n",
    "        \n",
    "        return perm_list, john_cow, john_bull, permutes\n",
    "    \n",
    "    elif permutes == 4:\n",
    "        perm_list = [j,h,o,n]\n",
    "        john_cow, john_bull = cowsbulls(perm_list, answer)\n",
    "        permutes += 1\n",
    "        \n",
    "        return perm_list, john_cow, john_bull, permutes\n",
    "    \n",
    "    elif permutes == 5:\n",
    "        perm_list = [j,n,h,o]\n",
    "        john_cow, john_bull = cowsbulls(perm_list, answer)\n",
    "        permutes += 1\n",
    "        \n",
    "        return perm_list, john_cow, john_bull, permutes\n",
    "    \n",
    "    elif permutes == 6:\n",
    "        perm_list = [j,o,n,h]\n",
    "        john_cow, john_bull = cowsbulls(perm_list, answer)\n",
    "        permutes += 1\n",
    "        \n",
    "        return perm_list, john_cow, john_bull, permutes"
   ]
  },
  {
   "cell_type": "code",
   "execution_count": null,
   "metadata": {},
   "outputs": [
    {
     "name": "stdout",
     "output_type": "stream",
     "text": [
      "The answer will be printed every round in case you would like to end early without screwing up your kernel. Feel free to disable it in line 4 of the main code.\n",
      "\n",
      "Would you like to play against John?(yes/no): yes\n",
      "User enter number: 1234\n",
      "1 cows , 0 bulls. Nice try! \n",
      "John guesses [1, 2, 3, 4] and gets 1 cows , 0 bulls.\n",
      "\n",
      "User enter number: 5167\n",
      "1 cows , 0 bulls. Nice try! \n",
      "John guesses [2, 3, 4, 5] and gets 1 cows , 0 bulls.\n",
      "\n",
      "User enter number: 8946\n",
      "3 cows , 0 bulls. Nice try! \n",
      "John guesses [3, 4, 5, 6] and gets 0 cows , 1 bulls.\n",
      "\n",
      "User enter number: 9478\n",
      "3 cows , 1 bulls. Nice try! \n",
      "John guesses [4, 5, 6, 7] and gets 2 cows , 0 bulls.\n",
      "\n"
     ]
    }
   ],
   "source": [
    "#Main code\n",
    "from random import sample\n",
    "answer = sample(range(0,10),4)\n",
    "#print(f\"answer:{answer}\")\n",
    "print(\"The answer will be printed every round in case you would like to end early without screwing up your kernel. Feel free to disable it in line 4 of the main code.\\n\")\n",
    "\n",
    "#AI mode switch\n",
    "john_mode = input(\"Would you like to play against John?(yes/no): \")\n",
    "\n",
    "#variables\n",
    "attempts = 0\n",
    "john_attempts = 0\n",
    "answer_nums = []\n",
    "locked = True\n",
    "john_permutes = 1\n",
    "bc_sum = {}\n",
    "john_guess = [0,0,0,0]\n",
    "\n",
    "while True:\n",
    "    attempts += 1\n",
    "    #Asks for user input\n",
    "    guess = intake()\n",
    "    #Finds the number of cows and bulls\n",
    "    cow, bull = cowsbulls(guess, answer)\n",
    "    \n",
    "    if bull == 4:\n",
    "        print(f\"{' ':40}Congrats! You've won with {attempts} tries!\")  #How to add spaces without doing this?\n",
    "        break;\n",
    "    else:\n",
    "        print(f\"{cow} cows , {bull} bulls. Nice try! \")\n",
    "        \n",
    "    \n",
    "    #AI code\n",
    "    if john_mode == \"yes\":\n",
    "        john_attempts += 1\n",
    "        \n",
    "        if john_attempts <= 10:\n",
    "            john_guess, john_cow, john_bull, bc_sum, = ansr_nums()\n",
    "        elif john_attempts == 11:\n",
    "            john_guess, john_cow, john_bull, answer_nums = ansr_confirm()\n",
    "        elif locked:\n",
    "            john_guess, john_cow, john_bull, locked, answer_nums = random_guesses()\n",
    "        else:\n",
    "            john_guess, john_cow, john_bull, john_permutes = permutations()\n",
    "        \n",
    "        j,o,h,n = john_guess\n",
    "        \n",
    "        if john_bull == 4:\n",
    "            print(f\"{' ':25}Awww, you've lost against a 10th grader's algorithm! John won with {john_attempts} tries.\")  #How to add spaces without doing this?\n",
    "            break;\n",
    "        else:\n",
    "            print(f\"John guesses {john_guess} and gets {john_cow} cows , {john_bull} bulls.\\n\")"
   ]
  },
  {
   "cell_type": "markdown",
   "metadata": {},
   "source": [
    "# J.O.H.N dev notes"
   ]
  },
  {
   "cell_type": "markdown",
   "metadata": {},
   "source": [
    "John - Joint Operations Hella Nifty\n",
    "\n",
    "**General/supporting ideas**\n",
    "- 15 combos with the number of bulls and cows\n",
    "- Use list.sort(0) to make generated list low to high\n",
    "- Global variable AI_mode = True\n",
    "- Dictionary with past guesses: dict = {first:[],second:[],third[],fourth[],bulls[],cows[]}\n",
    "- Jump off each time from the most bull+cow past try\n",
    "\n",
    "**Computer guessing strategies:**\n",
    "- wind from 0000 through 9999 to find cows first, then arrange to find bulls\n",
    "- start from 0000 and go up. Every time encountering another bull/cow, explore the unkown \"number level\" and one level above that. Example 2468: 0000(0b0c), 1111(0b0c), 2222(1b0c), 2333(1b0c), 2444(1b1c),2455(2b0c)... etc. Must account for when the next level also has a bull/cow. Solution status: exploring possible solutions."
   ]
  },
  {
   "cell_type": "markdown",
   "metadata": {},
   "source": [
    "## Finding Answer Numbers\n",
    "**Shoot just realized that I can't have my AI enter 4 of the same numbers... What do I do now???**\n",
    "- Bulls/cows and their numbers: Sweep through four at the time. First find which (bulls+cows) numbers are at least cows by plugging a number that's not a bull/cow in again and again. Also lock onto the location of bulls. These two can be done at the same time. After locking on to numbers, don't change. Move on to find other unknown bull/cows.\n",
    "- Numbers and their bulls/cows: 0123,1234,2345,3456,4567,5678,6789,7890,8901,9012. Dictionary = {1:,2:,3:....} storing how many times bulls/cows appeared when. Each number appears only 4 times in 4 different positions. That means that the correct numbers have 4 cows+bulls. But some numbers might coincidentally have an answer number in all 4 of its appearances. Get all the numbers with 4 cows/bulls and arrange them.\n",
    "- *Edit for last bullet point* The correct answers appear 4 times in 4 different positions, which means that at least one bull! Other \"fake\" numbers can have cows, but never bulls! Permutate the 4 numbers that have 1 bull each.\n",
    "\n",
    "**Wait nope that won't work because there might be numbers that are stuck between answer numbers and also get 4 bulls.**\n",
    "**New lock-on method!**\n",
    "- Like last method, sweep through each digit 4 times by trying 0123, 1234, 2345... 8901, 9012. Gather the TOTAL number of bulls + cows.\n",
    "- Look at the total number of bulls and cows. Where bulls+cows increases, that means an Answer Number has enetered the guess.\n",
    "- But how to account for instances where one Answer Number enters and another Answer Number leaves?! In that case the total bulls + cows would stay the same...\n",
    "- MUOHAHAHAHAHA after experiments, I can use that very fact against the game! \n",
    "- If “an Answer Number leaves” and “the number of bull/cow sum remains the same\": then the number that entered must also be an Answer Number"
   ]
  },
  {
   "cell_type": "markdown",
   "metadata": {},
   "source": [
    "## Permuting Answer Numbers\n",
    "\n",
    "\n",
    "- Arrange 4 bull potential numbers into 4 bulls\n",
    "- How to lock on? What is the most effective way of doing so?\n",
    "- If bull gone after changing, then what I moved away must have a bull.\n",
    "- If bull acquired after changing, then what I moved to must have a bull.\n",
    "\n",
    "When change two numbers, there are five scenearios:\n",
    "- bull increases by 2:\n",
    "- bull increases by 1: \n",
    "- bull remains the same: \n",
    "- bull decreases by 1\n",
    "- bull decreases by 2\n",
    "\n",
    "True false thought process after exchanging two numbers' places:\n",
    "- True = bull, False = cow\n",
    "- Starting with FF --> TF(+1), FT(+1), FF(+0), TT(+2)\n",
    "- Starting with TF --> FF(-1)\n",
    "- Starting with TT --> FF(-2)\n",
    "- Conclusion: by looking at the difference in bulls, we can determine where the numbers before and after must/must not be.\n",
    "\n",
    "**If I can locate two correct numbers, then the last two numbers are either already there or switched!**\n",
    "\n",
    "**General**\n",
    "- Need systematic way of choosing which numbers to exchange\n",
    "- Need way of recording where the numbers must and must not be.\n",
    "\n",
    "**Recording method**\n",
    "- Use a dictionary where the keys are the Answer Numbers and the values are where the Answer Number must or must not be\n",
    "- dict = {0:[und,True,und,und],1:[und,False,und,und],2:[und,und,0,und],3:[und,und,und,0]}\n",
    "- True means must be bull here\n",
    "- False means must not be bull here und means haven't tried this yet\n",
    "- 0 means might be here\n",
    "\n",
    "**Choosing method**\n",
    "- Should I ignore TF and FT cases and only go for sure ones such as FF and TT?\n",
    "- If randomly permute 4 nums, the chance of getting 2 bulls is 25%(data acquired from 100,000 trials)\n",
    "- After getting 2 bulls, rearrange that combo two at a time for a total of 7 different permutations\n",
    "- abcd,bacd,cbad,dbca,acbd,adcb,abdc\n",
    "- One of which is the answer!\n",
    "\n",
    "**Permute program design**\n",
    "- Randomly permute 4 nums until I get 2 bulls, then rearrange in pre-programmed order until it gets the answer\n",
    "- sample(answer_nums,4)\n",
    "- a,b,c,d = permuted tuple, based on attempts arrange into abcd,bacd,cbad,dbca,acbd,adcb,abdc"
   ]
  },
  {
   "cell_type": "markdown",
   "metadata": {},
   "source": [
    "## Whole AI Design in Program#\n",
    "- Predefines global variables before while True loop\n",
    "- AI section in main code\n",
    "- starts with AI_attempts += 1\n",
    "- AI_attempts will be passed into each AI function. Based on the number of attempts, the functionalities will be different\n",
    "- if AI_attempts <= 10, run through the 10 trials for 4 nums, such as 1234,2345,3456...etc\n",
    "- if AI_attempts == 11, lock onto the 4 answer numbers, store them.\n",
    "- if AI_attempts >= 12 and < locked, randomly permutes answer numbers until 2 bulls, locked = AI_attempts, store permute in tuple.\n",
    "- if AI_attempts >= locked, derive different permutations of the first permutation based on attempt numbers\n",
    "- AI will win in 11- 17 attempts.\n",
    "- Each function returns bull, cow, and maybe something else\n",
    "\n",
    "**Reminders**\n",
    "- make bc_sum into a dictionary{0:[....],1:[....], ...}\n",
    "- make variables global in functions\n",
    "- sorted(set())"
   ]
  },
  {
   "cell_type": "code",
   "execution_count": 5,
   "metadata": {
    "scrolled": false
   },
   "outputs": [
    {
     "name": "stdout",
     "output_type": "stream",
     "text": [
      "answer:[7, 1, 0, 5]\n",
      "The sums of bulls and cows for each of the ten trials:\n",
      "[2, 1, 1, 1, 2, 2, 1, 2, 2, 2]\n",
      "\n",
      "Answer nums:\n",
      "{0, 1, 5, 7}\n"
     ]
    }
   ],
   "source": [
    "#Experiment for locking onto Answer Numbers.\n",
    "#i is both the index in the bullcow sum and the starting number of that trial\n",
    "#Results: Success!!!!!! Found a method for amending the loophole!!!\n",
    "from random import sample\n",
    "answer = sample(range(0,9),4)\n",
    "print(f\"answer:{answer}\")\n",
    "\n",
    "bc_sums = []\n",
    "\n",
    "for attempts in range(10):\n",
    "    a,b,c,d = attempts,1+attempts,2+attempts,3+attempts\n",
    "\n",
    "    if a >= 10:\n",
    "        a -= 10\n",
    "    if b >= 10:\n",
    "        b -= 10\n",
    "    if c >= 10:\n",
    "        c -= 10\n",
    "    if d >= 10:\n",
    "        d -= 10\n",
    "\n",
    "    guess = [a,b,c,d]\n",
    "\n",
    "    cow, bull = cowsbulls(guess,answer)\n",
    "    bc_sums.append(cow + bull)\n",
    "\n",
    "print(\"The sums of bulls and cows for each of the ten trials:\")\n",
    "print(bc_sums)\n",
    "\n",
    "answer_nums = []\n",
    "\n",
    "for i in range(10): #If there is a difference in the bull/cow sums, that number that just joined is an answer number\n",
    "    if bc_sums[(i+1)%10] - bc_sums[i] == 1:\n",
    "        answer_nums.append((i+4)%10) #append the last number of trial i+1 to the answers\n",
    "\n",
    "for b in range(2):\n",
    "    for i in range(10):\n",
    "        for a in answer_nums:\n",
    "            if i == a and bc_sums[(i+1)%10] == bc_sums[i]:\n",
    "                answer_nums.append((i+4)%10)\n",
    "\n",
    "answer_nums.sort()\n",
    "answer_nums = set(answer_nums)\n",
    "print(\"\\nAnswer nums:\")\n",
    "print(answer_nums)"
   ]
  },
  {
   "cell_type": "code",
   "execution_count": 6,
   "metadata": {},
   "outputs": [
    {
     "name": "stdout",
     "output_type": "stream",
     "text": [
      "answer:[0, 6, 4, 1]\n",
      "The number of bulls for each number: \n",
      "{0: 2, 1: 2, 2: 2, 3: 2, 4: 1, 5: 2, 6: 1, 7: 1, 8: 2, 9: 1}\n"
     ]
    }
   ],
   "source": [
    "#Experiment for counting bulls hypothesis. \n",
    "#Result: non-answer numbers can overlap with answer numbers. The total bull/cow sum remains the same even if new \n",
    "#Answer Num enters. Unable to lock on. Problem raised.\n",
    "from random import sample\n",
    "answer = sample(range(0,10),4)\n",
    "print(f\"answer:{answer}\")\n",
    "\n",
    "dict = {0:0,1:0,2:0,3:0,4:0,5:0,6:0,7:0,8:0,9:0}\n",
    "\n",
    "for attempts in range(10):\n",
    "    a,b,c,d = attempts,1+attempts,2+attempts, 3+attempts\n",
    "    \n",
    "    if a >= 10:\n",
    "        a -= 10\n",
    "    if b >= 10:\n",
    "        b -= 10\n",
    "    if c >= 10:\n",
    "        c -= 10\n",
    "    if d >= 10:\n",
    "        d -= 10\n",
    "    \n",
    "    guess = [a,b,c,d]\n",
    "    \n",
    "    cow, bull = cowsbulls(guess,answer)\n",
    "    \n",
    "    dict[a] += bull\n",
    "    dict[b] += bull\n",
    "    dict[c] += bull\n",
    "    dict[d] += bull\n",
    "\n",
    "print(\"The number of bulls for each number: \")\n",
    "print(dict)"
   ]
  },
  {
   "cell_type": "code",
   "execution_count": null,
   "metadata": {},
   "outputs": [],
   "source": [
    "#Experiment with probabilities of landing 1,2,3 numbers correct on the first try(permuting after locking onto answer numebrs)\n",
    "#Results: \n",
    "#Cannot have three bulls because if 3 numbs are bulls, the last one is also a bull.\n",
    "#0 bulls average: 37.5%\n",
    "#1 bulls average: 33.5%\n",
    "#2 bulls average: 25%\n",
    "#3 bulls average: 0%\n",
    "#4 bulls average: 4%\n",
    "from random import sample\n",
    "\n",
    "answer = [0,1,2,3]\n",
    "\n",
    "data = {0:0,1:0,2:0,3:0,4:0}\n",
    "\n",
    "repeats = 1000000\n",
    "\n",
    "for i in range(repeats):\n",
    "    permute = list(sample(range(0,4),4))\n",
    "    \n",
    "    bulls = 0\n",
    "\n",
    "    for answr in answer:\n",
    "        for perm in permute:\n",
    "            if perm == answr and answer.index(answr) == permute.index(perm): #If you get a bull\n",
    "                bulls += 1\n",
    "    \n",
    "    data[bulls] += 1\n",
    "\n",
    "print(data)\n",
    "\n",
    "for key, value in data.items():\n",
    "    value = str(value/repeats)\n",
    "    print(str(key) + \" bulls: \" + value)"
   ]
  },
  {
   "cell_type": "code",
   "execution_count": 3,
   "metadata": {},
   "outputs": [
    {
     "name": "stdout",
     "output_type": "stream",
     "text": [
      "answer:[1, 3, 2, 4]\n",
      "\n",
      "\n",
      "\n",
      "Enter number: 4123\n",
      "1 bulls\n",
      "Enter number: 1234\n",
      "2 bulls\n",
      "Enter number: 4231\n",
      "0 bulls\n",
      "Enter number: 1324\n",
      "                                        Congrats! You've won with 4 tries!\n"
     ]
    }
   ],
   "source": [
    "#Permutation experiments. What is the best way to find the arrangement of 4 Answer Numbers?\n",
    "#Randomly permute until I get 2 bulls, then try orders abcd,bacd,cbad,dbca,acbd,adcb,abdc.\n",
    "from random import sample\n",
    "answer = sample(range(1,5),4)\n",
    "print(f\"answer:{answer}\\n\\n\\n\")\n",
    "\n",
    "attempts = 0\n",
    "\n",
    "while True:\n",
    "    attempts += 1\n",
    "    #Asks for user input\n",
    "    guess = intake()\n",
    "    #Finds the number of cows and bulls\n",
    "    cow, bull = cowsbulls(guess, answer)\n",
    "    \n",
    "    if bull == 4:\n",
    "        print(f\"{' ':40}Congrats! You've won with {attempts} tries!\")  #How to add spaces without doing this?\n",
    "        break;\n",
    "    else:\n",
    "        print(f\"{bull} bulls\")"
   ]
  },
  {
   "cell_type": "code",
   "execution_count": 27,
   "metadata": {},
   "outputs": [
    {
     "name": "stdout",
     "output_type": "stream",
     "text": [
      "answer:[4, 1, 2, 3]\n",
      "\n",
      "\n",
      "\n",
      "{1: ['und', 'und', 'und', 'und'], 2: ['und', 'und', 'und', 'und'], 3: ['und', 'und', 'und', 'und'], 4: ['und', 'und', 'und', 'und']}\n",
      "['und', 'und', 'und', 'und']\n"
     ]
    }
   ],
   "source": [
    "#Random attempt at creating an AI at 11 o'clock at night with a brain full of unicorns, don't worry about this\n",
    "from random import sample\n",
    "answer = sample(range(1,5),4)\n",
    "print(f\"answer:{answer}\\n\\n\\n\")\n",
    "\n",
    "guess = [1,2,3,4]\n",
    "dict = {}\n",
    "\n",
    "for item in guess:\n",
    "    dict[item] = [\"und\",\"und\",\"und\",\"und\"]\\\n",
    "    \n",
    "print(dict)\n",
    "\n",
    "def permute():\n",
    "    perm = []\n",
    "    \n",
    "    for key, value in dict.items():\n",
    "        for i in range(4):\n",
    "            if value[i] == \"und\":\n",
    "                perm.append(value[i])\n",
    "                break\n",
    "    \n",
    "    print(perm)\n",
    "\n",
    "    \n",
    "permute()"
   ]
  },
  {
   "cell_type": "markdown",
   "metadata": {},
   "source": [
    "# Small Scale Experiments"
   ]
  },
  {
   "cell_type": "code",
   "execution_count": 11,
   "metadata": {},
   "outputs": [
    {
     "name": "stdout",
     "output_type": "stream",
     "text": [
      "[7, 5, 1, 3]\n"
     ]
    }
   ],
   "source": [
    "list = [1,3,5,7]\n",
    "a = sample(list,4)\n",
    "print(a)"
   ]
  },
  {
   "cell_type": "code",
   "execution_count": 12,
   "metadata": {},
   "outputs": [
    {
     "name": "stdout",
     "output_type": "stream",
     "text": [
      "1 3 5 7\n"
     ]
    }
   ],
   "source": [
    "a,b,c,d = list\n",
    "print(a,b,c,d)"
   ]
  },
  {
   "cell_type": "code",
   "execution_count": 53,
   "metadata": {},
   "outputs": [
    {
     "ename": "TypeError",
     "evalue": "'list' object is not callable",
     "output_type": "error",
     "traceback": [
      "\u001b[1;31m---------------------------------------------------------------------------\u001b[0m",
      "\u001b[1;31mTypeError\u001b[0m                                 Traceback (most recent call last)",
      "\u001b[1;32m<ipython-input-53-06a4949b1fd4>\u001b[0m in \u001b[0;36m<module>\u001b[1;34m\u001b[0m\n\u001b[0;32m      1\u001b[0m \u001b[0ma\u001b[0m \u001b[1;33m=\u001b[0m \u001b[1;33m[\u001b[0m\u001b[1;36m1\u001b[0m\u001b[1;33m,\u001b[0m\u001b[1;36m2\u001b[0m\u001b[1;33m,\u001b[0m\u001b[1;36m3\u001b[0m\u001b[1;33m,\u001b[0m\u001b[1;36m4\u001b[0m\u001b[1;33m,\u001b[0m\u001b[1;36m5\u001b[0m\u001b[1;33m]\u001b[0m\u001b[1;33m\u001b[0m\u001b[1;33m\u001b[0m\u001b[0m\n\u001b[0;32m      2\u001b[0m \u001b[0mb\u001b[0m \u001b[1;33m=\u001b[0m \u001b[0mset\u001b[0m\u001b[1;33m(\u001b[0m\u001b[0ma\u001b[0m\u001b[1;33m)\u001b[0m\u001b[1;33m\u001b[0m\u001b[1;33m\u001b[0m\u001b[0m\n\u001b[1;32m----> 3\u001b[1;33m \u001b[0mc\u001b[0m \u001b[1;33m=\u001b[0m \u001b[0mlist\u001b[0m\u001b[1;33m(\u001b[0m\u001b[0mb\u001b[0m\u001b[1;33m)\u001b[0m\u001b[1;33m\u001b[0m\u001b[1;33m\u001b[0m\u001b[0m\n\u001b[0m\u001b[0;32m      4\u001b[0m \u001b[1;33m\u001b[0m\u001b[0m\n\u001b[0;32m      5\u001b[0m \u001b[0mprint\u001b[0m\u001b[1;33m(\u001b[0m\u001b[0ma\u001b[0m\u001b[1;33m)\u001b[0m\u001b[1;33m\u001b[0m\u001b[1;33m\u001b[0m\u001b[0m\n",
      "\u001b[1;31mTypeError\u001b[0m: 'list' object is not callable"
     ]
    }
   ],
   "source": [
    "a = [1,2,3,4,5]\n",
    "b = set(a)\n",
    "c = list(b)\n",
    "\n",
    "print(a)\n",
    "print(b)\n",
    "print(c)"
   ]
  },
  {
   "cell_type": "code",
   "execution_count": 40,
   "metadata": {},
   "outputs": [
    {
     "name": "stdout",
     "output_type": "stream",
     "text": [
      "5\n",
      "3\n"
     ]
    }
   ],
   "source": [
    "num = 3\n",
    "def func():\n",
    "    num = 5\n",
    "    print(num)\n",
    "func()\n",
    "print(num)"
   ]
  },
  {
   "cell_type": "code",
   "execution_count": 44,
   "metadata": {},
   "outputs": [
    {
     "name": "stdout",
     "output_type": "stream",
     "text": [
      "{0: 5}\n",
      "{0: 5}\n"
     ]
    }
   ],
   "source": [
    "dict = {0:0}\n",
    "def func():\n",
    "    dict[0] = 5\n",
    "    print(dict)\n",
    "func()\n",
    "print(dict)"
   ]
  },
  {
   "cell_type": "code",
   "execution_count": 51,
   "metadata": {},
   "outputs": [
    {
     "name": "stdout",
     "output_type": "stream",
     "text": [
      "[1, 2]\n"
     ]
    }
   ],
   "source": [
    "list = [0]\n",
    "def func():\n",
    "    list[0] = 1\n",
    "    list.append(2)\n",
    "func()\n",
    "print(list)"
   ]
  },
  {
   "cell_type": "code",
   "execution_count": 50,
   "metadata": {},
   "outputs": [
    {
     "ename": "SyntaxError",
     "evalue": "invalid syntax (<ipython-input-50-3097ee6c9bab>, line 2)",
     "output_type": "error",
     "traceback": [
      "\u001b[1;36m  File \u001b[1;32m\"<ipython-input-50-3097ee6c9bab>\"\u001b[1;36m, line \u001b[1;32m2\u001b[0m\n\u001b[1;33m    truth = a !> 5\u001b[0m\n\u001b[1;37m              ^\u001b[0m\n\u001b[1;31mSyntaxError\u001b[0m\u001b[1;31m:\u001b[0m invalid syntax\n"
     ]
    }
   ],
   "source": [
    "a = 3\n",
    "truth = a !> 5\n",
    "print(truth)"
   ]
  },
  {
   "cell_type": "code",
   "execution_count": 73,
   "metadata": {},
   "outputs": [
    {
     "name": "stdout",
     "output_type": "stream",
     "text": [
      "None\n"
     ]
    }
   ],
   "source": [
    "bulls = 0\n",
    "def func():\n",
    "    if False:\n",
    "        return 1\n",
    "bulls = func()\n",
    "print(bulls)"
   ]
  },
  {
   "cell_type": "code",
   "execution_count": 79,
   "metadata": {},
   "outputs": [
    {
     "name": "stdout",
     "output_type": "stream",
     "text": [
      "4\n",
      "5\n"
     ]
    }
   ],
   "source": [
    "x = 3\n",
    "def func(x):\n",
    "    x = x+1\n",
    "    print(x)\n",
    "    return x+1\n",
    "x = func(x)\n",
    "print(x)"
   ]
  },
  {
   "cell_type": "code",
   "execution_count": 84,
   "metadata": {},
   "outputs": [
    {
     "name": "stdout",
     "output_type": "stream",
     "text": [
      "<class 'tuple'>\n",
      "1 2 3\n"
     ]
    }
   ],
   "source": [
    "list = [1,2,3]\n",
    "list = tuple(list)\n",
    "print(type(list))\n",
    "a,b,c = list\n",
    "print(a,b,c)\n",
    "list = (3,2,1)"
   ]
  },
  {
   "cell_type": "code",
   "execution_count": null,
   "metadata": {},
   "outputs": [],
   "source": []
  }
 ],
 "metadata": {
  "kernelspec": {
   "display_name": "Python 3 (ipykernel)",
   "language": "python",
   "name": "python3"
  },
  "language_info": {
   "codemirror_mode": {
    "name": "ipython",
    "version": 3
   },
   "file_extension": ".py",
   "mimetype": "text/x-python",
   "name": "python",
   "nbconvert_exporter": "python",
   "pygments_lexer": "ipython3",
   "version": "3.9.7"
  }
 },
 "nbformat": 4,
 "nbformat_minor": 2
}
